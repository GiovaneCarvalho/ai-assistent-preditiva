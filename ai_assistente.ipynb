{
 "cells": [
  {
   "cell_type": "markdown",
   "id": "9f564e9e",
   "metadata": {},
   "source": [
    "Fazendo a primeira chamada da LLM"
   ]
  },
  {
   "cell_type": "code",
   "execution_count": 2,
   "id": "260a6008",
   "metadata": {},
   "outputs": [],
   "source": [
    "from langchain_google_genai import ChatGoogleGenerativeAI\n",
    "\n",
    "from dotenv import load_dotenv\n",
    "import os"
   ]
  },
  {
   "cell_type": "code",
   "execution_count": 3,
   "id": "5e7c4258",
   "metadata": {},
   "outputs": [
    {
     "data": {
      "text/plain": [
       "True"
      ]
     },
     "execution_count": 3,
     "metadata": {},
     "output_type": "execute_result"
    }
   ],
   "source": [
    "load_dotenv()"
   ]
  },
  {
   "cell_type": "code",
   "execution_count": 6,
   "id": "3d9ab058",
   "metadata": {},
   "outputs": [],
   "source": [
    "llm = ChatGoogleGenerativeAI(model = 'gemini-1.5-flash', google_api_key=os.getenv(\"GOOGLE_API_KEY\"))"
   ]
  },
  {
   "cell_type": "code",
   "execution_count": 7,
   "id": "abd10059",
   "metadata": {},
   "outputs": [
    {
     "data": {
      "text/plain": [
       "'Albert Einstein (1879-1955) foi um físico teórico alemão que desenvolveu a teoria da relatividade, uma das duas teorias pilares da física moderna (a outra é a mecânica quântica).  Sua obra é também conhecida por sua influência na filosofia da ciência.\\n\\nEle é mais conhecido pela equação de massa-energia, E=mc², que afirma que a energia (E) e a massa (m) são equivalentes e podem ser convertidas uma na outra, com c representando a velocidade da luz.  Essa equação revolucionou a nossa compreensão da energia nuclear.\\n\\nAlém da relatividade, Einstein fez contribuições significativas em outras áreas da física, incluindo:\\n\\n* **Efeito fotoelétrico:** Explicou o efeito fotoelétrico, mostrando a natureza quântica da luz, o que lhe rendeu o Prêmio Nobel de Física em 1921.\\n* **Movimento browniano:** Contribuiu para a compreensão do movimento browniano, fornecendo evidências experimentais para a existência de átomos e moléculas.\\n* **Teoria do campo unificado:** Tentou, sem sucesso, unificar a relatividade geral com o eletromagnetismo em uma única teoria.\\n\\nEinstein também era conhecido por suas opiniões políticas e sociais, sendo um pacifista declarado e um defensor do sionismo.  Sua imagem icônica, com seu cabelo despenteado e olhar pensativo, tornou-se um símbolo da genialidade científica.  Sua vida e obra continuam a inspirar cientistas e pensadores até hoje.'"
      ]
     },
     "execution_count": 7,
     "metadata": {},
     "output_type": "execute_result"
    }
   ],
   "source": [
    "llm.invoke('Quem foi Albert Einstein?').content"
   ]
  }
 ],
 "metadata": {
  "kernelspec": {
   "display_name": "assistente-ai-py3.11",
   "language": "python",
   "name": "python3"
  },
  "language_info": {
   "codemirror_mode": {
    "name": "ipython",
    "version": 3
   },
   "file_extension": ".py",
   "mimetype": "text/x-python",
   "name": "python",
   "nbconvert_exporter": "python",
   "pygments_lexer": "ipython3",
   "version": "3.11.5"
  }
 },
 "nbformat": 4,
 "nbformat_minor": 5
}
