{
 "cells": [
  {
   "cell_type": "markdown",
   "id": "9f564e9e",
   "metadata": {},
   "source": [
    "Fazendo a primeira chamada da LLM"
   ]
  },
  {
   "cell_type": "code",
   "execution_count": null,
   "id": "260a6008",
   "metadata": {},
   "outputs": [
    {
     "data": {
      "text/plain": [
       "True"
      ]
     },
     "execution_count": 1,
     "metadata": {},
     "output_type": "execute_result"
    }
   ],
   "source": [
    "from langchain_google_genai import ChatGoogleGenerativeAI\n",
    "from dotenv import load_dotenv\n",
    "import os\n",
    "\n",
    "load_dotenv()\n",
    "\n",
    "import pandas as pd\n",
    "from langchain.docstore.document import Document"
   ]
  },
  {
   "cell_type": "markdown",
   "id": "6ed88eeb",
   "metadata": {},
   "source": [
    "Criando nossa primeira chamada de LLM"
   ]
  },
  {
   "cell_type": "code",
   "execution_count": 2,
   "id": "3d9ab058",
   "metadata": {},
   "outputs": [],
   "source": [
    "llm = ChatGoogleGenerativeAI(model = 'gemini-1.5-flash', google_api_key=os.getenv(\"GOOGLE_API_KEY\"))"
   ]
  },
  {
   "cell_type": "code",
   "execution_count": 3,
   "id": "abd10059",
   "metadata": {},
   "outputs": [
    {
     "data": {
      "text/plain": [
       "'Albert Einstein (1879-1955) foi um físico teórico alemão que desenvolveu a teoria da relatividade, um dos dois pilares da física moderna (o outro é a mecânica quântica).  Sua famosa equação, E=mc², que estabelece a equivalência entre energia e massa, é uma das mais conhecidas do mundo.\\n\\nAlém da relatividade, Einstein fez contribuições significativas em outras áreas da física, incluindo a mecânica estatística (explicação do movimento browniano), a cosmologia e a mecânica quântica (embora tivesse reservas sobre alguns de seus aspectos).  Ele recebeu o Prêmio Nobel de Física de 1921 por sua explicação do efeito fotoelétrico, que ajudou a estabelecer a teoria quântica da luz.\\n\\nEinstein é considerado um dos maiores e mais influentes cientistas de todos os tempos, não apenas por suas descobertas científicas, mas também por seu impacto na filosofia e na cultura popular. Sua imagem icônica, com o cabelo despenteado e a língua para fora, é mundialmente reconhecida. Ele também era conhecido por seu pacifismo e seu envolvimento em causas sociais e políticas.'"
      ]
     },
     "execution_count": 3,
     "metadata": {},
     "output_type": "execute_result"
    }
   ],
   "source": [
    "llm.invoke('Quem foi Albert Einstein?').content"
   ]
  },
  {
   "cell_type": "markdown",
   "id": "42b8d515",
   "metadata": {},
   "source": [
    "Construindo nossa primeira estrutura de RAG"
   ]
  },
  {
   "cell_type": "code",
   "execution_count": null,
   "id": "977aa48a",
   "metadata": {},
   "outputs": [],
   "source": [
    "from langchain.vectorstores import FAISS\n",
    "from langchain.embeddings import HuggingFaceEmbeddings\n",
    "from langchain.document_loaders import PyPDFLoader\n",
    "from pathlib import Path\n",
    "from langchain.text_splitter import RecursiveCharacterTextSplitter"
   ]
  },
  {
   "cell_type": "code",
   "execution_count": 5,
   "id": "ba2565c5",
   "metadata": {},
   "outputs": [],
   "source": [
    "BASE_DIR = Path().resolve()\n",
    "DOCS_DIR = BASE_DIR / \"docs\""
   ]
  },
  {
   "cell_type": "markdown",
   "id": "c6e36e05",
   "metadata": {},
   "source": [
    "Escolhendo a estrutura de embedding"
   ]
  },
  {
   "cell_type": "code",
   "execution_count": 6,
   "id": "23dca1fe",
   "metadata": {},
   "outputs": [
    {
     "name": "stderr",
     "output_type": "stream",
     "text": [
      "C:\\Users\\degio\\AppData\\Local\\Temp\\ipykernel_21656\\323160131.py:1: LangChainDeprecationWarning: The class `HuggingFaceEmbeddings` was deprecated in LangChain 0.2.2 and will be removed in 1.0. An updated version of the class exists in the :class:`~langchain-huggingface package and should be used instead. To use it run `pip install -U :class:`~langchain-huggingface` and import as `from :class:`~langchain_huggingface import HuggingFaceEmbeddings``.\n",
      "  embedding = HuggingFaceEmbeddings(model_name=\"sentence-transformers/all-MiniLM-L6-v2\")\n",
      "c:\\Users\\degio\\Downloads\\2025\\Preditiva\\Formação AI\\Conteudos\\Módulo 8 - Projetos Finais\\CASE 1\\Assistente_AI\\.venv\\Lib\\site-packages\\tqdm\\auto.py:21: TqdmWarning: IProgress not found. Please update jupyter and ipywidgets. See https://ipywidgets.readthedocs.io/en/stable/user_install.html\n",
      "  from .autonotebook import tqdm as notebook_tqdm\n"
     ]
    }
   ],
   "source": [
    "embedding = HuggingFaceEmbeddings(model_name=\"sentence-transformers/all-MiniLM-L6-v2\")"
   ]
  },
  {
   "cell_type": "code",
   "execution_count": 32,
   "id": "aea710d5",
   "metadata": {},
   "outputs": [],
   "source": [
    "def load_pdf_vectorstore(filepath : str, save_path: str):\n",
    "    loader = PyPDFLoader(DOCS_DIR / filepath)\n",
    "    documents = loader.load()\n",
    "    text_splitter = RecursiveCharacterTextSplitter(chunk_size=1000, chunk_overlap=500)\n",
    "    documents = text_splitter.split_documents(documents)\n",
    "    vectorstore = FAISS.from_documents(documents, embedding)\n",
    "    vectorstore.save_local(f'vectorstores/{save_path}')\n",
    "    retriver = vectorstore.as_retriever(search_type = 'similarity', search_kwargs = {'k':7})\n",
    "    return retriver\n",
    "    "
   ]
  },
  {
   "cell_type": "code",
   "execution_count": 36,
   "id": "e70d57a7",
   "metadata": {},
   "outputs": [],
   "source": [
    "retriver_perguntas_frequentes = load_pdf_vectorstore(\"Perguntas Frequentes.pdf\", \"vectorstore_perguntas_frequentes\")\n",
    "retriver_manual_tecnico = load_pdf_vectorstore(\"Manual Tecnico de Produtos.pdf\", \"vectorstore_manual_tecnico_produtos\")\n",
    "retriver_politicas_procedimentos = load_pdf_vectorstore(\"Politicas e Procedimentos.pdf\", \"vectorstore_politicas_procedimentos\")"
   ]
  },
  {
   "cell_type": "code",
   "execution_count": 49,
   "id": "16ec4d57",
   "metadata": {},
   "outputs": [],
   "source": [
    "def load_excel_vectorstore(filepath : str, save_path: str):\n",
    "    df = pd.read_excel(DOCS_DIR / filepath)\n",
    "    documents = []\n",
    "    for idx, row in df.iterrows():\n",
    "        text = ' '.join([str(cell) for cell in row if pd.notna(cell)])\n",
    "        documents.append(Document(page_content = text, metadata ={'row': idx}))\n",
    "\n",
    "    vectorstore_tickers = FAISS.from_documents(documents, embedding)\n",
    "    vectorstore_tickers.save_local('vectorstores/vectorstore_tickets')\n",
    "    retriver_tickets = vectorstore_tickers.as_retriever(search_type = 'similarity', search_kwargs = {'k':7})\n",
    "\n",
    "    return retriver_tickets"
   ]
  },
  {
   "cell_type": "code",
   "execution_count": 50,
   "id": "a5125dda",
   "metadata": {},
   "outputs": [],
   "source": [
    "retriver_tickets = load_excel_vectorstore(\"Tickets.xlsx\", \"vectorstore_tickets\")"
   ]
  }
 ],
 "metadata": {
  "kernelspec": {
   "display_name": "assistente-ai-py3.11",
   "language": "python",
   "name": "python3"
  },
  "language_info": {
   "codemirror_mode": {
    "name": "ipython",
    "version": 3
   },
   "file_extension": ".py",
   "mimetype": "text/x-python",
   "name": "python",
   "nbconvert_exporter": "python",
   "pygments_lexer": "ipython3",
   "version": "3.11.5"
  }
 },
 "nbformat": 4,
 "nbformat_minor": 5
}
